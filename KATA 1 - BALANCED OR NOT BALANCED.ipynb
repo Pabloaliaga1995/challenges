{
 "cells": [
  {
   "cell_type": "code",
   "execution_count": 9,
   "id": "6607c539",
   "metadata": {},
   "outputs": [],
   "source": []
  },
  {
   "cell_type": "code",
   "execution_count": 1,
   "id": "1f06a54c",
   "metadata": {},
   "outputs": [],
   "source": [
    "def balanced_num(number):\n",
    "    number_string = str(number).replace(\"-\", \"\") #Para evitar que sea negativo, convertimos el string en un número positivo\n",
    "    number_lenght = len(number_string)\n",
    "    \n",
    "    #Convertimos el string en una lista\n",
    "    number_list = list (number_string)\n",
    "    \n",
    "    #Creamos contadores que vayan contando ambas sumas\n",
    "    number_sum_left = 0\n",
    "    number_sum_right = 0\n",
    "\n",
    "    if number_string.isdigit(): #Si la variable no es un dígito ponemos un warning\n",
    "    \n",
    "    #Tenemos que ver si la longitud es par o impar\n",
    "    \n",
    "      if number_lenght%2 == 0: \n",
    "        #even (par) si es par no podemos coger los dos dos de la mitad, tenemos que quitarlos\n",
    "        print (\"log: \",\"even\")\n",
    "        even_division_left = number_lenght//2 - 1 #0,1,2,3 (len=4) ---> queremos index 0, por lo que necesitamos 1 y los anteriores del rango\n",
    "        even_division_right = number_lenght//2 + 1 #0,1,2,3 (len=4) ---> queremos index 3, por lo que necesitaríamos 3 y en adelante\n",
    "        for i in range (0, even_division_left):\n",
    "            number_sum_left += int(number_list[i])\n",
    "        for e in range (even_division_right, number_lenght):\n",
    "            number_sum_right += int(number_list[e])\n",
    "        if number_sum_left == number_sum_right:\n",
    "            return \"Balanced\"\n",
    "        else:\n",
    "            return \"Not Balanced\"\n",
    "    \n",
    "      else: #odd (No podemos coger el número que esté en la mitad (único))\n",
    "        print(\"log: \", \"odd\")\n",
    "        even_division_left = (number_lenght - 1)//2 #0,1,2 (len = 3) ---> Queremos index 0, cogemos de 1 hacia atrás\n",
    "        even_division_right = (number_lenght +1)//2 #0,1,2 (len = 3) ---> Queremos index 2, cogemos de 2 hacia adelante\n",
    "        for i in range (0, even_division_left):\n",
    "            number_sum_left += int (number_list [i])\n",
    "        for e in range (even_division_right, number_lenght):\n",
    "            number_sum_right += int(number_list [e])\n",
    "        if number_sum_left == number_sum_right:\n",
    "            return \"Balanced\"\n",
    "        else:\n",
    "            return \"Not Balanced\"\n",
    "        \n",
    "        "
   ]
  },
  {
   "cell_type": "code",
   "execution_count": null,
   "id": "a493ceac",
   "metadata": {},
   "outputs": [],
   "source": []
  }
 ],
 "metadata": {
  "kernelspec": {
   "display_name": "Python 3 (ipykernel)",
   "language": "python",
   "name": "python3"
  },
  "language_info": {
   "codemirror_mode": {
    "name": "ipython",
    "version": 3
   },
   "file_extension": ".py",
   "mimetype": "text/x-python",
   "name": "python",
   "nbconvert_exporter": "python",
   "pygments_lexer": "ipython3",
   "version": "3.7.11"
  }
 },
 "nbformat": 4,
 "nbformat_minor": 5
}
