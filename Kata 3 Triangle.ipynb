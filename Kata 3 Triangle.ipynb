{
 "cells": [
  {
   "cell_type": "code",
   "execution_count": 37,
   "id": "cfe0193f",
   "metadata": {},
   "outputs": [],
   "source": [
    "def triangle (row):\n",
    "    if len(row) == 1:\n",
    "        return row\n",
    "    else:\n",
    "        space= \"\"\n",
    "        for i in range(len(row)-1): \n",
    "            if row[i] == row[i+1]:\n",
    "                space = space + row [i]\n",
    "            elif row[i] in \"BG\" and row [i+1] in \"BG\":\n",
    "                space = space + \"R\"\n",
    "            elif row[i] in \"RB\" and row [i+1] in \"RB\":\n",
    "                space = space + \"G\"\n",
    "            elif row[i] in \"RG\" and row [i+1] in \"RG\":\n",
    "                space = space + \"B\"\n",
    "        return triangle(space)\n"
   ]
  },
  {
   "cell_type": "code",
   "execution_count": 38,
   "id": "c091e0ba",
   "metadata": {},
   "outputs": [
    {
     "data": {
      "text/plain": [
       "'G'"
      ]
     },
     "execution_count": 38,
     "metadata": {},
     "output_type": "execute_result"
    }
   ],
   "source": [
    "triangle('BR')"
   ]
  },
  {
   "cell_type": "code",
   "execution_count": 39,
   "id": "e96e040c",
   "metadata": {},
   "outputs": [
    {
     "name": "stdout",
     "output_type": "stream",
     "text": [
      "<class 'str'>\n"
     ]
    }
   ],
   "source": [
    "var = triangle('BR')\n",
    "print(type(var))"
   ]
  },
  {
   "cell_type": "code",
   "execution_count": 2,
   "id": "92562c9b",
   "metadata": {},
   "outputs": [
    {
     "name": "stdout",
     "output_type": "stream",
     "text": [
      "['G']\n"
     ]
    },
    {
     "data": {
      "text/plain": [
       "'G'"
      ]
     },
     "execution_count": 2,
     "metadata": {},
     "output_type": "execute_result"
    }
   ],
   "source": [
    "#Solución\n",
    "def triangle(row):\n",
    "    lst = []\n",
    "    lst2 = []\n",
    "    for j in range(len(row)-1):\n",
    "        for i in range(len(row)-1):\n",
    "            aux = []\n",
    "            if row[i] == row[i+1]:\n",
    "                lst.append(row[i])\n",
    "            elif row[i] != row[i+1]:\n",
    "                aux.append(row[i])\n",
    "                aux.append(row[i+1])\n",
    "                if \"G\" in aux and \"B\" in aux:\n",
    "                    lst.append(\"R\")\n",
    "                elif \"B\" in aux and \"R\" in aux:\n",
    "                    lst.append(\"G\")\n",
    "                else:\n",
    "                    lst.append(\"B\")\n",
    "        print(lst)\n",
    "        row = lst\n",
    "        lst = []\n",
    "    return row[0]\n",
    "\n",
    "triangle('BR')"
   ]
  },
  {
   "cell_type": "code",
   "execution_count": null,
   "id": "8f99721e",
   "metadata": {},
   "outputs": [],
   "source": []
  }
 ],
 "metadata": {
  "kernelspec": {
   "display_name": "Python [conda env:ironhack]",
   "language": "python",
   "name": "conda-env-ironhack-py"
  },
  "language_info": {
   "codemirror_mode": {
    "name": "ipython",
    "version": 3
   },
   "file_extension": ".py",
   "mimetype": "text/x-python",
   "name": "python",
   "nbconvert_exporter": "python",
   "pygments_lexer": "ipython3",
   "version": "3.7.11"
  }
 },
 "nbformat": 4,
 "nbformat_minor": 5
}
