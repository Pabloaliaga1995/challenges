{
 "cells": [
  {
   "cell_type": "code",
   "execution_count": 2,
   "id": "c2470f32",
   "metadata": {},
   "outputs": [],
   "source": [
    "def sum_or_product(array, n):\n",
    "    \n",
    "    array.sort()\n",
    "    \n",
    "    sum_or_products_new_list_lower =1\n",
    "    \n",
    "    sum_or_products_new_list_higher =0\n",
    "    \n",
    "    \n",
    "    for i in range(0,n): #lower\n",
    "        sum_or_products_new_list_lower=sum_or_products_new_list_lower*array[i]\n",
    "    print(sum_or_products_new_list_lower)\n",
    "    \n",
    "    \n",
    "    for i in range(len(array)-n,len(array)): #higher\n",
    "        sum_or_products_new_list_higher+=array[i]\n",
    "    print(sum_or_products_new_list_higher)\n",
    "    \n",
    "    \n",
    "    if sum_or_products_new_list_higher > sum_or_products_new_list_lower:\n",
    "        return \"sum\"\n",
    "    elif sum_or_products_new_list_lower > sum_or_products_new_list_higher:\n",
    "        return \"product\"\n",
    "    else:\n",
    "        return \"same\""
   ]
  },
  {
   "cell_type": "code",
   "execution_count": null,
   "id": "51904e01",
   "metadata": {},
   "outputs": [],
   "source": []
  }
 ],
 "metadata": {
  "kernelspec": {
   "display_name": "Python [conda env:ironhack]",
   "language": "python",
   "name": "conda-env-ironhack-py"
  },
  "language_info": {
   "codemirror_mode": {
    "name": "ipython",
    "version": 3
   },
   "file_extension": ".py",
   "mimetype": "text/x-python",
   "name": "python",
   "nbconvert_exporter": "python",
   "pygments_lexer": "ipython3",
   "version": "3.7.11"
  }
 },
 "nbformat": 4,
 "nbformat_minor": 5
}
