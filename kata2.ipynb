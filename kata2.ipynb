{
 "cells": [
  {
   "cell_type": "code",
   "execution_count": 10,
   "id": "9010a02d",
   "metadata": {},
   "outputs": [],
   "source": [
    "def sum_or_product(array, n):\n",
    "    array.sort ()\n",
    "    sum_or_product = (array, n)\n",
    "    sum_largest = 0\n",
    "    sum_smaller = 1\n",
    "    \n",
    "    \n",
    "    for i in range(0, n): #smaller\n",
    "        sum_smaller = sum_smaller * array[i]\n",
    "    print(sum_smaller)\n",
    "    \n",
    "    for i in range (len(array),-n(array)): #higher\n",
    "        sum_largest += array[i]\n",
    "    print(sum_largest)\n",
    "    \n",
    "     if sum_largest > sum_smaller:\n",
    "        return \"sum\"\n",
    "    elif sum_smaller > sum_largest:\n",
    "        return \"product\"\n",
    "    else:\n",
    "        return \"same\"\n",
    "   \n",
    "    \n"
   ]
  },
  {
   "cell_type": "code",
   "execution_count": null,
   "id": "6aef0667",
   "metadata": {},
   "outputs": [],
   "source": []
  },
  {
   "cell_type": "code",
   "execution_count": null,
   "id": "a4d6162e",
   "metadata": {},
   "outputs": [],
   "source": []
  }
 ],
 "metadata": {
  "kernelspec": {
   "display_name": "Python [conda env:ironhack]",
   "language": "python",
   "name": "conda-env-ironhack-py"
  },
  "language_info": {
   "codemirror_mode": {
    "name": "ipython",
    "version": 3
   },
   "file_extension": ".py",
   "mimetype": "text/x-python",
   "name": "python",
   "nbconvert_exporter": "python",
   "pygments_lexer": "ipython3",
   "version": "3.7.11"
  }
 },
 "nbformat": 4,
 "nbformat_minor": 5
}
