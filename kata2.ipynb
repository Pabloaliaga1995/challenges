{
 "cells": [
  {
   "cell_type": "code",
   "execution_count": null,
   "id": "9010a02d",
   "metadata": {},
   "outputs": [],
   "source": [
    "def sum_or_product(array, n):\n",
    "\n",
    "sum_or_product =(array, n)\n",
    "\n",
    "n = int (n)\n",
    "array = []\n",
    "\n",
    "sum_or_product = (array, n)\n",
    "\n",
    "sum_largest = 0\n",
    "product_smaller = 0\n",
    "\n",
    "array = array.sort ()\n",
    "\n",
    "for i in range(0, n+1, 1):\n",
    "    sum_largest = sum + i \n",
    "    \n",
    "for i in range (-1, -n, 1):\n",
    "    product_smaller = i**\n",
    "    \n",
    "\n",
    "if sum_largest > product_smaller:\n",
    "    return sum\n",
    "\n",
    "elif product_largest > sum_largest:\n",
    "    return product\n",
    "\n",
    "else:\n",
    "    return same\n",
    "    \n"
   ]
  },
  {
   "cell_type": "code",
   "execution_count": null,
   "id": "6aef0667",
   "metadata": {},
   "outputs": [],
   "source": []
  },
  {
   "cell_type": "code",
   "execution_count": null,
   "id": "a4d6162e",
   "metadata": {},
   "outputs": [],
   "source": []
  }
 ],
 "metadata": {
  "kernelspec": {
   "display_name": "Python [conda env:ironhack]",
   "language": "python",
   "name": "conda-env-ironhack-py"
  },
  "language_info": {
   "codemirror_mode": {
    "name": "ipython",
    "version": 3
   },
   "file_extension": ".py",
   "mimetype": "text/x-python",
   "name": "python",
   "nbconvert_exporter": "python",
   "pygments_lexer": "ipython3",
   "version": "3.7.11"
  }
 },
 "nbformat": 4,
 "nbformat_minor": 5
}
