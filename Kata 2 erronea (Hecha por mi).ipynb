{
 "cells": [
  {
   "cell_type": "code",
   "execution_count": 3,
   "id": "5ca8cf00",
   "metadata": {},
   "outputs": [
    {
     "ename": "SyntaxError",
     "evalue": "invalid syntax (1381741940.py, line 14)",
     "output_type": "error",
     "traceback": [
      "\u001b[0;36m  File \u001b[0;32m\"/var/folders/45/rlv_cg792ys3fdwrjq5ywxjc0000gn/T/ipykernel_1660/1381741940.py\"\u001b[0;36m, line \u001b[0;32m14\u001b[0m\n\u001b[0;31m    product_smaller = i**\u001b[0m\n\u001b[0m                         ^\u001b[0m\n\u001b[0;31mSyntaxError\u001b[0m\u001b[0;31m:\u001b[0m invalid syntax\n"
     ]
    }
   ],
   "source": [
    "def sum_or_product(array, n):\n",
    "    sum_or_product =(array, n)\n",
    "    n = int (n)\n",
    "    array = []\n",
    "    sum_or_product = (array, n)\n",
    "    sum_largest = 0\n",
    "    product_smaller = 0\n",
    "    array = array.sort ()\n",
    "\n",
    "    for i in range(0, n+1, 1):\n",
    "        sum_largest = sum + i \n",
    "    \n",
    "    for i in range (-1, -n, 1):\n",
    "        product_smaller = i**\n",
    "    \n",
    "    if sum_largest > product_smaller:\n",
    "        return sum\n",
    "    elif product_largest > sum_largest:\n",
    "        return product\n",
    "    else:\n",
    "        return same"
   ]
  },
  {
   "cell_type": "code",
   "execution_count": null,
   "id": "c94eb873",
   "metadata": {},
   "outputs": [],
   "source": []
  }
 ],
 "metadata": {
  "kernelspec": {
   "display_name": "Python [conda env:ironhack]",
   "language": "python",
   "name": "conda-env-ironhack-py"
  },
  "language_info": {
   "codemirror_mode": {
    "name": "ipython",
    "version": 3
   },
   "file_extension": ".py",
   "mimetype": "text/x-python",
   "name": "python",
   "nbconvert_exporter": "python",
   "pygments_lexer": "ipython3",
   "version": "3.7.11"
  }
 },
 "nbformat": 4,
 "nbformat_minor": 5
}
