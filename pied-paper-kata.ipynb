{
 "cells": [
  {
   "cell_type": "code",
   "execution_count": 64,
   "id": "af19662c",
   "metadata": {},
   "outputs": [],
   "source": [
    "def count_deaf_rats(town):\n",
    "    town.replace(\" \", \"\")\n",
    "    town.split(\"P\")\n",
    "    count_deaf = 0\n",
    "    right = [1]\n",
    "    left = [0]\n",
    "    for i in town:\n",
    "        for i in right:\n",
    "            if i != 0:\n",
    "                if all == '~O' or all == 'O~':\n",
    "                    count_deaf += 0\n",
    "            else:\n",
    "                count_deaf += 1\n",
    "                \n",
    "        for i in left:\n",
    "            if i != 0:\n",
    "                if all == '~O' or all == 'O~':\n",
    "                    count_deaf += 0\n",
    "            else:\n",
    "                count_deaf += 1\n",
    "        \n",
    "        return count_deaf\n",
    "            \n",
    "    \n",
    "    "
   ]
  },
  {
   "cell_type": "code",
   "execution_count": 65,
   "id": "078efa42",
   "metadata": {},
   "outputs": [
    {
     "data": {
      "text/plain": [
       "1"
      ]
     },
     "execution_count": 65,
     "metadata": {},
     "output_type": "execute_result"
    }
   ],
   "source": [
    "count_deaf_rats(\"~O~O~O~OP~O~OO~\")"
   ]
  },
  {
   "cell_type": "code",
   "execution_count": 71,
   "id": "20c7eb62",
   "metadata": {},
   "outputs": [],
   "source": [
    "def count_deaf_rats(town):\n",
    "    town.replace(\" \", \"\")\n",
    "    town.split(\"P\")\n",
    "    count_deaf_right = 0\n",
    "    count_deaf_left = 0\n",
    "    right = [1]\n",
    "    left = [0]\n",
    "    for i in town:\n",
    "        if right [0] + right [0+1] == '~O':\n",
    "            count_deaf_right += 1\n",
    "            return count_deaf_right\n",
    "        elif left [0] + left [0+1] == 'O~':\n",
    "            count_deaf_left += 1\n",
    "            return count_deaf_right\n",
    "        else:\n",
    "            return 0\n",
    "            \n",
    "            "
   ]
  },
  {
   "cell_type": "code",
   "execution_count": 72,
   "id": "645428f0",
   "metadata": {},
   "outputs": [
    {
     "ename": "IndexError",
     "evalue": "list index out of range",
     "output_type": "error",
     "traceback": [
      "\u001b[0;31m---------------------------------------------------------------------------\u001b[0m",
      "\u001b[0;31mIndexError\u001b[0m                                Traceback (most recent call last)",
      "\u001b[0;32m/var/folders/45/rlv_cg792ys3fdwrjq5ywxjc0000gn/T/ipykernel_1086/723815162.py\u001b[0m in \u001b[0;36m<module>\u001b[0;34m\u001b[0m\n\u001b[0;32m----> 1\u001b[0;31m \u001b[0mcount_deaf_rats\u001b[0m\u001b[0;34m(\u001b[0m\u001b[0;34m\"~O~O~O~OP~O~OO~\"\u001b[0m\u001b[0;34m)\u001b[0m\u001b[0;34m\u001b[0m\u001b[0;34m\u001b[0m\u001b[0m\n\u001b[0m",
      "\u001b[0;32m/var/folders/45/rlv_cg792ys3fdwrjq5ywxjc0000gn/T/ipykernel_1086/2864241674.py\u001b[0m in \u001b[0;36mcount_deaf_rats\u001b[0;34m(town)\u001b[0m\n\u001b[1;32m      7\u001b[0m     \u001b[0mleft\u001b[0m \u001b[0;34m=\u001b[0m \u001b[0;34m[\u001b[0m\u001b[0;36m0\u001b[0m\u001b[0;34m]\u001b[0m\u001b[0;34m\u001b[0m\u001b[0;34m\u001b[0m\u001b[0m\n\u001b[1;32m      8\u001b[0m     \u001b[0;32mfor\u001b[0m \u001b[0mi\u001b[0m \u001b[0;32min\u001b[0m \u001b[0mtown\u001b[0m\u001b[0;34m:\u001b[0m\u001b[0;34m\u001b[0m\u001b[0;34m\u001b[0m\u001b[0m\n\u001b[0;32m----> 9\u001b[0;31m         \u001b[0;32mif\u001b[0m \u001b[0mright\u001b[0m \u001b[0;34m[\u001b[0m\u001b[0;36m0\u001b[0m\u001b[0;34m]\u001b[0m \u001b[0;34m+\u001b[0m \u001b[0mright\u001b[0m \u001b[0;34m[\u001b[0m\u001b[0;36m0\u001b[0m\u001b[0;34m+\u001b[0m\u001b[0;36m1\u001b[0m\u001b[0;34m]\u001b[0m \u001b[0;34m==\u001b[0m \u001b[0;34m'~O'\u001b[0m\u001b[0;34m:\u001b[0m\u001b[0;34m\u001b[0m\u001b[0;34m\u001b[0m\u001b[0m\n\u001b[0m\u001b[1;32m     10\u001b[0m             \u001b[0mcount_deaf_right\u001b[0m \u001b[0;34m+=\u001b[0m \u001b[0;36m1\u001b[0m\u001b[0;34m\u001b[0m\u001b[0;34m\u001b[0m\u001b[0m\n\u001b[1;32m     11\u001b[0m             \u001b[0;32mreturn\u001b[0m \u001b[0mcount_deaf_right\u001b[0m\u001b[0;34m\u001b[0m\u001b[0;34m\u001b[0m\u001b[0m\n",
      "\u001b[0;31mIndexError\u001b[0m: list index out of range"
     ]
    }
   ],
   "source": [
    "count_deaf_rats(\"~O~O~O~OP~O~OO~\")"
   ]
  },
  {
   "cell_type": "code",
   "execution_count": null,
   "id": "7036a83c",
   "metadata": {},
   "outputs": [],
   "source": []
  }
 ],
 "metadata": {
  "kernelspec": {
   "display_name": "Python [conda env:ironhack]",
   "language": "python",
   "name": "conda-env-ironhack-py"
  },
  "language_info": {
   "codemirror_mode": {
    "name": "ipython",
    "version": 3
   },
   "file_extension": ".py",
   "mimetype": "text/x-python",
   "name": "python",
   "nbconvert_exporter": "python",
   "pygments_lexer": "ipython3",
   "version": "3.7.11"
  }
 },
 "nbformat": 4,
 "nbformat_minor": 5
}
