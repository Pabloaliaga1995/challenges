{
 "cells": [
  {
   "cell_type": "code",
   "execution_count": 2,
   "id": "ce232802-347c-40c0-a234-e8df2cc39597",
   "metadata": {},
   "outputs": [
    {
     "ename": "SyntaxError",
     "evalue": "invalid syntax (3455386452.py, line 1)",
     "output_type": "error",
     "traceback": [
      "\u001b[0;36m  File \u001b[0;32m\"/var/folders/45/rlv_cg792ys3fdwrjq5ywxjc0000gn/T/ipykernel_1181/3455386452.py\"\u001b[0;36m, line \u001b[0;32m1\u001b[0m\n\u001b[0;31m    def balanced_number\u001b[0m\n\u001b[0m                       ^\u001b[0m\n\u001b[0;31mSyntaxError\u001b[0m\u001b[0;31m:\u001b[0m invalid syntax\n"
     ]
    }
   ],
   "source": [
    "def balanced_number\n",
    "    pass"
   ]
  },
  {
   "cell_type": "code",
   "execution_count": 3,
   "id": "59f999f1-957b-40bd-a80a-079fa28d77b0",
   "metadata": {},
   "outputs": [
    {
     "ename": "NameError",
     "evalue": "name 'number' is not defined",
     "output_type": "error",
     "traceback": [
      "\u001b[0;31m---------------------------------------------------------------------------\u001b[0m",
      "\u001b[0;31mNameError\u001b[0m                                 Traceback (most recent call last)",
      "\u001b[0;32m/var/folders/45/rlv_cg792ys3fdwrjq5ywxjc0000gn/T/ipykernel_1181/2255460786.py\u001b[0m in \u001b[0;36m<module>\u001b[0;34m\u001b[0m\n\u001b[0;32m----> 1\u001b[0;31m \u001b[0mnumber_string\u001b[0m \u001b[0;34m=\u001b[0m \u001b[0mstr\u001b[0m\u001b[0;34m(\u001b[0m\u001b[0mnumber\u001b[0m\u001b[0;34m)\u001b[0m\u001b[0;34m.\u001b[0m\u001b[0mreplace\u001b[0m\u001b[0;34m(\u001b[0m\u001b[0;34m\"-\"\u001b[0m\u001b[0;34m,\u001b[0m \u001b[0;34m\"\"\u001b[0m\u001b[0;34m)\u001b[0m \u001b[0;31m#Para evitar que sea negativo, convertimos el string en un número positivo\u001b[0m\u001b[0;34m\u001b[0m\u001b[0;34m\u001b[0m\u001b[0m\n\u001b[0m\u001b[1;32m      2\u001b[0m \u001b[0mnumber_lenght\u001b[0m \u001b[0;34m=\u001b[0m \u001b[0mlen\u001b[0m\u001b[0;34m(\u001b[0m\u001b[0mnumber_string\u001b[0m\u001b[0;34m)\u001b[0m\u001b[0;34m\u001b[0m\u001b[0;34m\u001b[0m\u001b[0m\n\u001b[1;32m      3\u001b[0m \u001b[0;34m\u001b[0m\u001b[0m\n\u001b[1;32m      4\u001b[0m \u001b[0;31m#Convertimos el string en una lista\u001b[0m\u001b[0;34m\u001b[0m\u001b[0;34m\u001b[0m\u001b[0;34m\u001b[0m\u001b[0m\n\u001b[1;32m      5\u001b[0m \u001b[0mnumber_list\u001b[0m \u001b[0;34m=\u001b[0m \u001b[0mlist\u001b[0m \u001b[0;34m(\u001b[0m\u001b[0mnumber_string\u001b[0m\u001b[0;34m)\u001b[0m\u001b[0;34m\u001b[0m\u001b[0;34m\u001b[0m\u001b[0m\n",
      "\u001b[0;31mNameError\u001b[0m: name 'number' is not defined"
     ]
    }
   ],
   "source": [
    "number_string = str(number).replace(\"-\", \"\") #Para evitar que sea negativo, convertimos el string en un número positivo\n",
    "number_lenght = len(number_string)\n",
    "\n",
    "#Convertimos el string en una lista\n",
    "number_list = list (number_string)\n",
    "\n",
    "#Creamos contadores que vayan contando ambas sumas\n",
    "number_sum_left = 0\n",
    "number_sum_right = 0\n",
    "\n",
    "if number_string.isdigit(): #Si la variable no es un dígito ponemos un warning\n",
    "    #Tenemos que ver si la longitud es par o impar\n",
    "    if number_lenght%2 == 0: #even (par) (si es par no podemos coger los dos dos de la mitad, tenemos que quitarlos)\n",
    "        print (\"log: \",\"even\")\n",
    "        even_division_left = number_lenght//2 - 1 #0,1,2,3 (len=4) ---> queremos index 0, por lo que necesitamos 1 y los anteriores del rango\n",
    "        even_division_right = number_lenght//2 + 1 #0,1,2,3 (len=4) ---> queremos index 3, por lo que necesitaríamos 3 y en adelante\n",
    "        for i in range (0, even_division_left):\n",
    "            number_sum_left += int(number_list[i])\n",
    "        for e in range (even_division_right, number_lenght):\n",
    "            number_sum_right += int(number_list[e])\n",
    "        if number_sum_left == number_sum_right:\n",
    "            return \"Balanced\"\n",
    "        else:\n",
    "            return \"Not Balanced\"\n",
    "    \n",
    "    else: #odd (No podemos coger el número que esté en la mitad (único))\n",
    "        print(\"log: \", \"odd\")\n",
    "        even_division_left = (number_lenght - 1)//2 #0,1,2 (len = 3) ---> Queremos index 0, cogemos de 1 hacia atrás\n",
    "        even_division_right = (number_lenght +1)//2 #0,1,2 (len = 3) ---> Queremos index 2, cogemos de 2 hacia adelante\n",
    "        for i in range (0, even_division_left):\n",
    "            number_sum_left += int (number_list [i])\n",
    "        for e in range (even_division_right, number_lenght):\n",
    "            number_sum_right += int(number_list [e])\n",
    "        if number_sum_left == number_sum_right:\n",
    "            return \"Balanced\"\n",
    "        else:\n",
    "            return \"Not Balanced\"\n",
    "        "
   ]
  },
  {
   "cell_type": "code",
   "execution_count": null,
   "id": "696d5df5-9547-4fde-88f2-5d907eed2554",
   "metadata": {},
   "outputs": [],
   "source": []
  }
 ],
 "metadata": {
  "kernelspec": {
   "display_name": "Python [conda env:ironhack]",
   "language": "python",
   "name": "conda-env-ironhack-py"
  },
  "language_info": {
   "codemirror_mode": {
    "name": "ipython",
    "version": 3
   },
   "file_extension": ".py",
   "mimetype": "text/x-python",
   "name": "python",
   "nbconvert_exporter": "python",
   "pygments_lexer": "ipython3",
   "version": "3.7.11"
  }
 },
 "nbformat": 4,
 "nbformat_minor": 5
}
